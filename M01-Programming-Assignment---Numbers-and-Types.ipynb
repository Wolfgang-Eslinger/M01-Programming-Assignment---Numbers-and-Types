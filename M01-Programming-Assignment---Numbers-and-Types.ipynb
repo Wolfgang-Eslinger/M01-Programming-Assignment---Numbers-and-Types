{
 "cells": [
  {
   "cell_type": "code",
   "execution_count": 6,
   "id": "f4fb07bc",
   "metadata": {},
   "outputs": [
    {
     "data": {
      "text/plain": [
       "3600"
      ]
     },
     "execution_count": 6,
     "metadata": {},
     "output_type": "execute_result"
    }
   ],
   "source": [
    "seconds_in_an_hour = 60 * 60\n",
    "seconds_in_an_hour"
   ]
  },
  {
   "cell_type": "code",
   "execution_count": 7,
   "id": "e7e0e65c",
   "metadata": {},
   "outputs": [
    {
     "data": {
      "text/plain": [
       "3600"
      ]
     },
     "execution_count": 7,
     "metadata": {},
     "output_type": "execute_result"
    }
   ],
   "source": [
    "seconds_per_hour = seconds_in_an_hour\n",
    "seconds_per_hour"
   ]
  },
  {
   "cell_type": "code",
   "execution_count": 8,
   "id": "7c32dd42",
   "metadata": {},
   "outputs": [
    {
     "data": {
      "text/plain": [
       "86400"
      ]
     },
     "execution_count": 8,
     "metadata": {},
     "output_type": "execute_result"
    }
   ],
   "source": [
    "seconds_in_a_day = seconds_per_hour * 24\n",
    "seconds_in_a_day"
   ]
  },
  {
   "cell_type": "code",
   "execution_count": 9,
   "id": "6c403546",
   "metadata": {},
   "outputs": [
    {
     "data": {
      "text/plain": [
       "86400"
      ]
     },
     "execution_count": 9,
     "metadata": {},
     "output_type": "execute_result"
    }
   ],
   "source": [
    "seconds_per_day = seconds_in_a_day\n",
    "seconds_per_day\n"
   ]
  },
  {
   "cell_type": "code",
   "execution_count": 10,
   "id": "ab4bee02",
   "metadata": {},
   "outputs": [
    {
     "data": {
      "text/plain": [
       "24.0"
      ]
     },
     "execution_count": 10,
     "metadata": {},
     "output_type": "execute_result"
    }
   ],
   "source": [
    "result_float = seconds_per_day / seconds_per_hour\n",
    "result_float"
   ]
  },
  {
   "cell_type": "code",
   "execution_count": 11,
   "id": "469a1cf8",
   "metadata": {},
   "outputs": [
    {
     "data": {
      "text/plain": [
       "24"
      ]
     },
     "execution_count": 11,
     "metadata": {},
     "output_type": "execute_result"
    }
   ],
   "source": [
    "result_int = seconds_per_day // seconds_per_hour\n",
    "result_int"
   ]
  }
 ],
 "metadata": {
  "kernelspec": {
   "display_name": "Python 3 (ipykernel)",
   "language": "python",
   "name": "python3"
  },
  "language_info": {
   "codemirror_mode": {
    "name": "ipython",
    "version": 3
   },
   "file_extension": ".py",
   "mimetype": "text/x-python",
   "name": "python",
   "nbconvert_exporter": "python",
   "pygments_lexer": "ipython3",
   "version": "3.11.5"
  }
 },
 "nbformat": 4,
 "nbformat_minor": 5
}
